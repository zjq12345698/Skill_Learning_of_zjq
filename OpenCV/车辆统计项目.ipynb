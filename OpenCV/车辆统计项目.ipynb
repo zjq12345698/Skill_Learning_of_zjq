{
 "cells": [
  {
   "cell_type": "code",
   "execution_count": 1,
   "id": "6e0be991",
   "metadata": {},
   "outputs": [],
   "source": [
    "import cv2\n",
    "import matplotlib.pyplot as plt\n",
    "import numpy as np\n",
    "%matplotlib inline\n",
    "def cv_show(window_name, img_name):\n",
    "    cv2.imshow(window_name, img_name)\n",
    "    cv2.waitKey(5000)\n",
    "    cv2.destroyAllWindows()"
   ]
  },
  {
   "cell_type": "markdown",
   "id": "0458970b",
   "metadata": {},
   "source": [
    "## 读取视频"
   ]
  },
  {
   "cell_type": "code",
   "execution_count": 5,
   "id": "125ffdb2",
   "metadata": {},
   "outputs": [],
   "source": [
    "video = cv2.VideoCapture('video.mp4')\n",
    "\n",
    "# 循环读取视频\n",
    "while True:\n",
    "    ret, frame = video.read()\n",
    "    if ret == True:\n",
    "        cv2.imshow('video', frame)\n",
    "        \n",
    "    key = cv2.waitKey(1)\n",
    "    # 用户按esc退出\n",
    "    if key ==27:\n",
    "        break\n",
    "        \n",
    "# 释放资源\n",
    "video.release()\n",
    "cv2.destroyAllWindows()"
   ]
  },
  {
   "cell_type": "markdown",
   "id": "6720d0d1",
   "metadata": {},
   "source": [
    "## 去除背景实例"
   ]
  },
  {
   "cell_type": "code",
   "execution_count": 20,
   "id": "473964dd",
   "metadata": {},
   "outputs": [],
   "source": [
    "cap = cv2.VideoCapture('video.mp4')\n",
    "# 创建mog对象\n",
    "mog = cv2.bgsegm.createBackgroundSubtractorMOG()\n",
    "\n",
    "while True:\n",
    "    ret, frame = cap.read()\n",
    "    if ret ==True:\n",
    "        fgmask = mog.apply(frame)\n",
    "        cv2.imshow('video', fgmask)\n",
    "    key = cv2.waitKey(1)\n",
    "    # 用户按esc退出\n",
    "    if key ==27:\n",
    "        break\n",
    "        \n",
    "# 释放资源\n",
    "video.release()\n",
    "cv2.destroyAllWindows()  \n",
    "    "
   ]
  },
  {
   "cell_type": "markdown",
   "id": "b075bc58",
   "metadata": {},
   "source": [
    "## 形态学识别车辆"
   ]
  },
  {
   "cell_type": "code",
   "execution_count": 17,
   "id": "4f00fa5e",
   "metadata": {},
   "outputs": [],
   "source": [
    "video = cv2.VideoCapture('video.mp4')\n",
    "\n",
    "mog = cv2.bgsegm.createBackgroundSubtractorMOG()\n",
    "kernel = cv2.getStructuringElement(cv2.MORPH_RECT, (5, 5))\n",
    "\n",
    "w_min = 90\n",
    "h_min = 82\n",
    "\n",
    "line_high = 600\n",
    "offset = 9  # 偏移量\n",
    "\n",
    "cars = []\n",
    "count = 0\n",
    "\n",
    "# 计算外接矩形中心点\n",
    "def center(x, y, w, h):\n",
    "    x1 = int(w/2)\n",
    "    y1 = int(h/2)\n",
    "    cx = int(x) + x1\n",
    "    cy = int(y) + y1\n",
    "    return cx, cy\n",
    "# 循环读取视频\n",
    "while True:\n",
    "    ret, frame = video.read()\n",
    "    if ret == True:\n",
    "        # 转换为灰度图\n",
    "        gray = cv2.cvtColor(frame, cv2.COLOR_BGR2GRAY)\n",
    "        # 高斯去噪\n",
    "        gaus_blur = cv2.GaussianBlur(gray, (3, 3), 5)\n",
    "        # 中值去噪\n",
    "        medi_blur = cv2.medianBlur(gray, 5)\n",
    "        mask = mog.apply(gaus_blur)\n",
    "        # 腐蚀\n",
    "        erode = cv2.erode(mask, kernel)\n",
    "        # 膨胀\n",
    "        dilate = cv2.dilate(erode, kernel, iterations=2)\n",
    "        # 闭运算（消除内部像素小块）\n",
    "        close = cv2.morphologyEx(dilate, cv2.MORPH_CLOSE, kernel)\n",
    "\n",
    "        # 查找轮廓\n",
    "        contours, h = cv2.findContours(close, cv2.RETR_TREE, cv2.CHAIN_APPROX_SIMPLE)\n",
    "        \n",
    "        # 画出检测线\n",
    "        cv2.line(frame, (10, line_high), (1200, line_high), (255, 255, 0), 3)\n",
    "        # 画出所有轮廓\n",
    "        for contour in contours:\n",
    "            # 画外接矩形\n",
    "            (x, y, w, h) = cv2.boundingRect(contour)\n",
    "            # 根据w, h 过滤掉不需要的矩形\n",
    "            is_valid = (w >= w_min) &  (h >= h_min)\n",
    "            if not is_valid:\n",
    "                continue\n",
    "            # 到这的矩形， 就会被画出， 要求坐标点为整数\n",
    "            cv2.rectangle(frame, (x, y), (x+w, y+h), (0, 0, 255), 2)\n",
    "            # 把车抽象为一个点，即外接矩形的中心点\n",
    "            cpoint = center(x, y, w, h)\n",
    "            cars.append(cpoint)\n",
    "            cv2.circle(frame, (cpoint), 5, (0, 0, 255), -1)\n",
    "            \n",
    "            # 判断汽车是否过线\n",
    "            for (x, y) in cars:\n",
    "                if y > (line_high-offset) and y < (line_high+offset):\n",
    "                    # 落入统计线区间，开始计数\n",
    "                    count += 1\n",
    "                    cars.remove((x, y))\n",
    "        # 显示视频\n",
    "        cv2.putText(frame, 'Vehicle Count:' + str(count), (500, 60), cv2.FONT_HERSHEY_PLAIN, 4, (0, 0, 255), 5 )\n",
    "        cv2.imshow('frame', frame)\n",
    "        \n",
    "    key = cv2.waitKey(1)\n",
    "    # 用户按esc退出\n",
    "    if key ==27:\n",
    "        break\n",
    "        \n",
    "# 释放资源\n",
    "video.release()\n",
    "cv2.destroyAllWindows()"
   ]
  },
  {
   "cell_type": "code",
   "execution_count": null,
   "id": "e0b6a279",
   "metadata": {},
   "outputs": [],
   "source": []
  }
 ],
 "metadata": {
  "kernelspec": {
   "display_name": "DL_",
   "language": "python",
   "name": "dl"
  },
  "language_info": {
   "codemirror_mode": {
    "name": "ipython",
    "version": 3
   },
   "file_extension": ".py",
   "mimetype": "text/x-python",
   "name": "python",
   "nbconvert_exporter": "python",
   "pygments_lexer": "ipython3",
   "version": "3.9.16"
  }
 },
 "nbformat": 4,
 "nbformat_minor": 5
}
